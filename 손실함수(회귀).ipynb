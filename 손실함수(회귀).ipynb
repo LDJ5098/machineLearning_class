{
  "nbformat": 4,
  "nbformat_minor": 0,
  "metadata": {
    "colab": {
      "provenance": [],
      "authorship_tag": "ABX9TyONtd3/2LwbmeIpz8pV80fZ",
      "include_colab_link": true
    },
    "kernelspec": {
      "name": "python3",
      "display_name": "Python 3"
    },
    "language_info": {
      "name": "python"
    }
  },
  "cells": [
    {
      "cell_type": "markdown",
      "metadata": {
        "id": "view-in-github",
        "colab_type": "text"
      },
      "source": [
        "<a href=\"https://colab.research.google.com/github/LDJ5098/machineLearning_class/blob/main/%EC%86%90%EC%8B%A4%ED%95%A8%EC%88%98(%ED%9A%8C%EA%B7%80).ipynb\" target=\"_parent\"><img src=\"https://colab.research.google.com/assets/colab-badge.svg\" alt=\"Open In Colab\"/></a>"
      ]
    },
    {
      "cell_type": "code",
      "execution_count": 12,
      "metadata": {
        "colab": {
          "base_uri": "https://localhost:8080/"
        },
        "id": "ocLM1aGLrudE",
        "outputId": "2e957f87-d807-47ee-fd96-95ed5173bb58"
      },
      "outputs": [
        {
          "output_type": "stream",
          "name": "stdout",
          "text": [
            "Train R^2: 0.9903183436982124\n",
            "Test R^2: 0.9714559911594131\n",
            "Train MSE: 1194.7149661275623\n",
            "Test MSE: 2865.036247770619\n",
            "Train MAE: 24.145442859243975\n",
            "Test MAE: 32.33717946825578\n",
            "Train Huber Loss: 4.809088571848796\n",
            "Test Huber Loss: 6.44743595877741\n"
          ]
        }
      ],
      "source": [
        "import numpy as np\n",
        "import pandas as pd\n",
        "from sklearn.model_selection import train_test_split\n",
        "from sklearn.preprocessing import PolynomialFeatures\n",
        "from sklearn.preprocessing import StandardScaler\n",
        "from sklearn.linear_model import LinearRegression\n",
        "from sklearn.metrics import mean_squared_error, mean_absolute_error\n",
        "\n",
        "# Huber Loss 함수 정의\n",
        "def huber_loss(y_true, y_pred, delta=1.0):\n",
        "    error = np.abs(y_true - y_pred)\n",
        "    loss = np.where(error <= delta, 0.5 * error**2, delta * (error - 0.5 * delta))\n",
        "    return np.mean(loss)\n",
        "\n",
        "# 데이터 불러오기\n",
        "df = pd.read_csv('http://bit.ly/perch_csv_data')\n",
        "perch_full = df.to_numpy()\n",
        "\n",
        "perch_weight = np.array([5.9, 32.0, 40.0, 51.5, 70.0, 100.0, 78.0, 80.0, 85.0, 85.0, 110.0,\n",
        "       115.0, 125.0, 130.0, 120.0, 120.0, 130.0, 135.0, 110.0, 130.0,\n",
        "       150.0, 145.0, 150.0, 170.0, 225.0, 145.0, 188.0, 180.0, 197.0,\n",
        "       218.0, 300.0, 260.0, 265.0, 250.0, 250.0, 300.0, 320.0, 514.0,\n",
        "       556.0, 840.0, 685.0, 700.0, 700.0, 690.0, 900.0, 650.0, 820.0,\n",
        "       850.0, 900.0, 1015.0, 820.0, 1100.0, 1000.0, 1100.0, 1000.0,\n",
        "       1000.0])\n",
        "\n",
        "# 데이터 분할\n",
        "train_input, test_input, train_target, test_target = train_test_split(perch_full, perch_weight, random_state=42)\n",
        "\n",
        "# 다항 특성 추가\n",
        "poly = PolynomialFeatures(degree=2, include_bias=False)\n",
        "poly.fit(train_input)\n",
        "train_poly = poly.transform(train_input)\n",
        "test_poly = poly.transform(test_input)\n",
        "\n",
        "# 표준화\n",
        "ss = StandardScaler()\n",
        "ss.fit(train_poly)\n",
        "train_scaled = ss.transform(train_poly)\n",
        "test_scaled = ss.transform(test_poly)\n",
        "\n",
        "# 회귀 모델 학습\n",
        "lr = LinearRegression()\n",
        "lr.fit(train_scaled, train_target)\n",
        "\n",
        "# 예측\n",
        "train_pred = lr.predict(train_scaled)\n",
        "test_pred = lr.predict(test_scaled)\n",
        "\n",
        "# MSE, MAE, Huber Loss 계산\n",
        "mse_train = mean_squared_error(train_target, train_pred)\n",
        "mse_test = mean_squared_error(test_target, test_pred)\n",
        "\n",
        "mae_train = mean_absolute_error(train_target, train_pred)\n",
        "mae_test = mean_absolute_error(test_target, test_pred)\n",
        "\n",
        "huber_train = huber_loss(train_target, train_pred, delta=1.0)  # delta(임계값)는 1.0으로 설정\n",
        "huber_test = huber_loss(test_target, test_pred, delta=1.0)\n",
        "\n",
        "\n",
        "# 결과 출력\n",
        "print(f\"Train R^2: {lr.score(train_scaled, train_target)}\")\n",
        "print(f\"Test R^2: {lr.score(test_scaled, test_target)}\")\n",
        "\n",
        "print(f\"Train MSE: {mse_train}\")\n",
        "print(f\"Test MSE: {mse_test}\")\n",
        "\n",
        "print(f\"Train MAE: {mae_train}\")\n",
        "print(f\"Test MAE: {mae_test}\")\n",
        "\n",
        "print(f\"Train Huber Loss: {huber_train}\")\n",
        "print(f\"Test Huber Loss: {huber_test}\")\n"
      ]
    }
  ]
}