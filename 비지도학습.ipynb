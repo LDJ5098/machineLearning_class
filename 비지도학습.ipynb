{
  "nbformat": 4,
  "nbformat_minor": 0,
  "metadata": {
    "colab": {
      "provenance": [],
      "authorship_tag": "ABX9TyP1FkcBX9DnBU73dt2kPqYd",
      "include_colab_link": true
    },
    "kernelspec": {
      "name": "python3",
      "display_name": "Python 3"
    },
    "language_info": {
      "name": "python"
    }
  },
  "cells": [
    {
      "cell_type": "markdown",
      "metadata": {
        "id": "view-in-github",
        "colab_type": "text"
      },
      "source": [
        "<a href=\"https://colab.research.google.com/github/LDJ5098/machineLearning_class/blob/main/%EB%B9%84%EC%A7%80%EB%8F%84%ED%95%99%EC%8A%B5.ipynb\" target=\"_parent\"><img src=\"https://colab.research.google.com/assets/colab-badge.svg\" alt=\"Open In Colab\"/></a>"
      ]
    },
    {
      "cell_type": "code",
      "execution_count": null,
      "metadata": {
        "colab": {
          "base_uri": "https://localhost:8080/",
          "height": 484
        },
        "id": "2ZvofDRIG4Dw",
        "outputId": "5926e245-6d70-4ce9-8cce-5c267d5861f8"
      },
      "outputs": [
        {
          "output_type": "stream",
          "name": "stdout",
          "text": [
            "0.9889354346720892\n",
            "0.9856564835209134\n",
            "[1309.43411269]\n"
          ]
        },
        {
          "output_type": "display_data",
          "data": {
            "text/plain": [
              "<Figure size 640x480 with 1 Axes>"
            ],
            "image/png": "[encoded data removed]"
          },
          "metadata": {}
        }
      ],
      "source": [
        "import numpy as np\n",
        "import pandas as pd\n",
        "from sklearn.model_selection import train_test_split\n",
        "from sklearn.preprocessing import PolynomialFeatures\n",
        "from sklearn.preprocessing import StandardScaler\n",
        "from sklearn.linear_model import Ridge\n",
        "\n",
        "df = pd.read_csv('http://bit.ly/perch_csv_data')\n",
        "perch_full = df.to_numpy()\n",
        "\n",
        "perch_weight = np.array([5.9, 32.0, 40.0, 51.5, 70.0, 100.0, 78.0, 80.0, 85.0, 85.0, 110.0,\n",
        "       115.0, 125.0, 130.0, 120.0, 120.0, 130.0, 135.0, 110.0, 130.0,\n",
        "       150.0, 145.0, 150.0, 170.0, 225.0, 145.0, 188.0, 180.0, 197.0,\n",
        "       218.0, 300.0, 260.0, 265.0, 250.0, 250.0, 300.0, 320.0, 514.0,\n",
        "       556.0, 840.0, 685.0, 700.0, 700.0, 690.0, 900.0, 650.0, 820.0,\n",
        "       850.0, 900.0, 1015.0, 820.0, 1100.0, 1000.0, 1100.0, 1000.0,\n",
        "       1000.0])\n",
        "\n",
        "train_input, test_input, train_target, test_target = train_test_split(perch_full,perch_weight,random_state=42)\n",
        "p_data=[[50,13,8]]\n",
        "\n",
        "poly=PolynomialFeatures(degree=2, include_bias=False)\n",
        "poly.fit(train_input)\n",
        "train_poly = poly.transform(train_input)\n",
        "test_poly = poly.transform(test_input)\n",
        "p_data1=poly.transform(p_data)\n",
        "\n",
        "ss = StandardScaler()\n",
        "ss.fit(train_poly)\n",
        "train_scaled = ss.transform(train_poly)\n",
        "test_scaled = ss.transform(test_poly)\n",
        "p_data2=ss.transform(p_data1)\n",
        "\n",
        "train_score = []\n",
        "test_score = []\n",
        "alpha_list = [0.001, 0.01, 0.1, 1, 10, 100]\n",
        "\n",
        "for a in alpha_list :\n",
        "  ridge = Ridge(alpha=a)\n",
        "  ridge.fit(train_scaled, train_target)\n",
        "  train_score.append(ridge.score(train_scaled, train_target))\n",
        "  test_score.append(ridge.score(test_scaled, test_target))\n",
        "\n",
        "import matplotlib.pyplot as plt\n",
        "#plt.plot(alpha_list, train_score)\n",
        "plt.plot(np.log10(alpha_list),train_score)\n",
        "#plt.plot(alpha_list, test_score)\n",
        "plt.plot(np.log10(alpha_list),test_score)\n",
        "\n",
        "ridge = Ridge(alpha=0.1)\n",
        "ridge.fit(train_scaled, train_target)\n",
        "print(ridge.score(train_scaled, train_target))\n",
        "print(ridge.score(test_scaled, test_target))\n",
        "print(ridge.predict(p_data2))\n"
      ]
    },
    {
      "cell_type": "code",
      "source": [
        "!wget https://bit.ly/fruits_300_data -o fruits_300.npy"
      ],
      "metadata": {
        "id": "uqujXWpAHJW9"
      },
      "execution_count": null,
      "outputs": []
    },
    {
      "cell_type": "code",
      "source": [
        "!ls -al"
      ],
      "metadata": {
        "colab": {
          "base_uri": "https://localhost:8080/"
        },
        "id": "bBzK61vSHk4T",
        "outputId": "6a126f85-5fda-4d8f-e632-95e5f8949cf9"
      },
      "execution_count": null,
      "outputs": [
        {
          "output_type": "stream",
          "name": "stdout",
          "text": [
            "total 2956\n",
            "drwxr-xr-x 1 root root    4096 Nov  7 05:21 .\n",
            "drwxr-xr-x 1 root root    4096 Nov  7 05:19 ..\n",
            "drwxr-xr-x 4 root root    4096 Sep 20 13:21 .config\n",
            "-rw-r--r-- 1 root root 3000128 Nov  7 05:21 fruits_300_data\n",
            "-rw-r--r-- 1 root root    5706 Nov  7 05:21 fruits_300.npy\n",
            "drwxr-xr-x 1 root root    4096 Sep 20 13:22 sample_data\n"
          ]
        }
      ]
    },
    {
      "cell_type": "code",
      "source": [
        "import numpy as np\n",
        "fruits = np.load('fruits_300_data')\n",
        "print(fruits.shape)"
      ],
      "metadata": {
        "colab": {
          "base_uri": "https://localhost:8080/"
        },
        "id": "0JGFraKnHzN4",
        "outputId": "809548c8-5636-4dda-b59d-dec195526d48"
      },
      "execution_count": null,
      "outputs": [
        {
          "output_type": "stream",
          "name": "stdout",
          "text": [
            "(300, 100, 100)\n"
          ]
        }
      ]
    },
    {
      "cell_type": "code",
      "source": [
        "import matplotlib.pyplot as plt\n",
        "plt.imshow(fruits[200], cmap='gray')\n",
        "plt.show\n",
        "\n",
        "\n",
        "print(fruits[0, 50, :])"
      ],
      "metadata": {
        "colab": {
          "base_uri": "https://localhost:8080/",
          "height": 542
        },
        "id": "kvcU7B6bJ8Fn",
        "outputId": "ae6d2239-2035-40c7-9378-06de35ad4726"
      },
      "execution_count": null,
      "outputs": [
        {
          "output_type": "stream",
          "name": "stdout",
          "text": [
            "[  5   1   1   3   2  45  84  78  76  74  76  75  74  75  72  67  65  65\n",
            "  64  63  62  60  59  62  58  55  54  54  53  52  50  49  51  52  53  53\n",
            "  54  56  59  62  65  67  71  74  76  79  83  86  90  94  97  99 102 105\n",
            " 108 112 115 120 124 127 133 138 143 149 155 156 157 162 170 174 175 176\n",
            " 181 187 194 201 204 206 210 216 222 225 228 232 234 236 237 237 237 235\n",
            " 237 238 234 229 114   1   1   1   1   1]\n"
          ]
        },
        {
          "output_type": "display_data",
          "data": {
            "text/plain": [
              "<Figure size 640x480 with 1 Axes>"
            ],
            "image/png": "[encoded data removed]"
          },
          "metadata": {}
        }
      ]
    },
    {
      "cell_type": "code",
      "source": [
        "import matplotlib.pyplot as plt\n",
        "apple = fruits[0:100].reshape(-1, 100*100)\n",
        "pineapple = fruits [100:200].reshape(-1, 100*100)\n",
        "banana = fruits[200:300].reshape(-1, 100*100)\n",
        "\n",
        "\n",
        "apple_mean = apple.mean(axis=0).reshape(100, 100)\n",
        "pineapple_mean = pineapple.mean (axis=0).reshape(100,100)\n",
        "banana_mean = banana.mean(axis=0).reshape(100,100)\n",
        "\n",
        "abs_diff = np.abs(fruits - apple_mean)\n",
        "abs_mean = np.mean(abs_diff, axis=(1,2))\n",
        "print(abs_diff.shape)\n",
        "print(abs_mean.shape)\n",
        "\n",
        "apple_index = np.argsort(abs_mean) [0:100]\n",
        "print(apple_index)"
      ],
      "metadata": {
        "colab": {
          "base_uri": "https://localhost:8080/"
        },
        "id": "GCPT-HM9Luor",
        "outputId": "06d7aa09-35ea-430f-ba4d-952443725a23"
      },
      "execution_count": null,
      "outputs": [
        {
          "output_type": "stream",
          "name": "stdout",
          "text": [
            "(300, 100, 100)\n",
            "(300,)\n",
            "[33 48 70 57 87 12 78 59  1 74 86 38 50 92 69 27 68 30 66 24 76 98 15 84\n",
            " 47 90  3 94 53 23 14 71 32  7 73 36 55 77 21 10 17 39 99 95 11 35 65  6\n",
            " 61 22 56 89  2 13 80  0 97  4 58 34 40 43 75 82 54 16 31 49 93 37 63 64\n",
            " 41 28 67 25 96  8 83 46 19 79 72  5 85 29 20 60 81  9 45 51 88 62 91 26\n",
            " 52 18 44 42]\n"
          ]
        }
      ]
    },
    {
      "cell_type": "code",
      "source": [
        "import numpy as np\n",
        "fruits = np.load('fruits_300_data')\n",
        "print(fruits.shape)\n",
        "fruits_2d = fruits.reshape(-1, 100*100)\n",
        "print(fruits_2d.shape)\n",
        "\n",
        "from sklearn.cluster import KMeans\n",
        "km = KMeans(n_clusters=3, random_state=42)\n",
        "km.fit(fruits_2d)\n",
        "print(km.labels_)"
      ],
      "metadata": {
        "colab": {
          "base_uri": "https://localhost:8080/"
        },
        "id": "RQviO65DJ5ek",
        "outputId": "b1b8986e-7df6-4114-b4fd-2f58c416ffcb"
      },
      "execution_count": null,
      "outputs": [
        {
          "output_type": "stream",
          "name": "stdout",
          "text": [
            "(300, 100, 100)\n",
            "(300, 10000)\n",
            "[2 2 2 2 2 0 2 2 2 2 2 2 2 2 2 2 2 2 0 2 2 2 2 2 2 2 0 2 2 2 2 2 2 2 2 2 2\n",
            " 2 2 2 2 2 0 2 0 2 2 2 2 2 2 2 0 2 2 2 2 2 2 2 2 2 0 0 2 2 2 2 2 2 2 2 0 2\n",
            " 2 2 2 2 2 2 2 2 2 2 2 2 2 2 2 2 2 0 2 2 2 2 2 2 2 2 0 0 0 0 0 0 0 0 0 0 0\n",
            " 0 0 0 0 0 0 0 0 0 0 0 0 0 0 0 0 0 0 0 0 0 0 0 0 0 0 0 0 0 0 0 0 0 0 0 0 0\n",
            " 0 0 0 0 0 0 0 0 0 0 0 0 0 0 0 0 0 0 0 0 0 0 0 0 0 0 0 0 0 0 0 0 0 0 0 0 0\n",
            " 0 0 0 0 0 0 0 0 0 0 0 0 0 0 0 1 1 1 1 1 1 1 1 1 1 1 1 1 1 1 1 1 1 1 1 1 1\n",
            " 1 1 1 1 1 1 1 1 1 0 1 1 1 1 1 1 1 1 1 1 1 1 1 1 1 1 1 1 1 1 1 1 1 1 1 1 1\n",
            " 1 1 1 1 1 1 1 1 1 1 1 1 1 1 0 1 1 1 1 1 1 1 1 1 1 1 1 1 1 1 1 1 1 1 1 1 1\n",
            " 1 1 1 1]\n"
          ]
        }
      ]
    },
    {
      "cell_type": "code",
      "source": [],
      "metadata": {
        "id": "a72XKpPzGEh_"
      },
      "execution_count": null,
      "outputs": []
    }
  ]
}