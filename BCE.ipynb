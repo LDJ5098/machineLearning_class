{
  "nbformat": 4,
  "nbformat_minor": 0,
  "metadata": {
    "colab": {
      "provenance": [],
      "mount_file_id": "1hsdGC7aGnQit3Lqn6-Z7eVgKsbriXCfz",
      "authorship_tag": "ABX9TyPC1P/h0mlUTrrseejiX18w",
      "include_colab_link": true
    },
    "kernelspec": {
      "name": "python3",
      "display_name": "Python 3"
    },
    "language_info": {
      "name": "python"
    }
  },
  "cells": [
    {
      "cell_type": "markdown",
      "metadata": {
        "id": "view-in-github",
        "colab_type": "text"
      },
      "source": [
        "<a href=\"https://colab.research.google.com/github/LDJ5098/machineLearning_class/blob/main/BCE.ipynb\" target=\"_parent\"><img src=\"https://colab.research.google.com/assets/colab-badge.svg\" alt=\"Open In Colab\"/></a>"
      ]
    },
    {
      "cell_type": "code",
      "execution_count": 11,
      "metadata": {
        "colab": {
          "base_uri": "https://localhost:8080/"
        },
        "id": "oCCdsXWLYoQK",
        "outputId": "73d185ab-bc94-4051-f4d1-3f18f79eb03b"
      },
      "outputs": [
        {
          "output_type": "stream",
          "name": "stdout",
          "text": [
            "Binary Cross Entropy Loss: 0.14462154\n"
          ]
        }
      ],
      "source": [
        "import tensorflow as tf\n",
        "\n",
        "# 예시 데이터\n",
        "y_true = tf.constant([1.0, 0.0, 1.0])  # 실제 레이블\n",
        "y_pred = tf.constant([0.9, 0.1, 0.8])  # 모델 예측값\n",
        "\n",
        "# BCE 손실 계산\n",
        "bce = tf.keras.losses.BinaryCrossentropy()\n",
        "loss = bce(y_true, y_pred)\n",
        "\n",
        "print(\"Binary Cross Entropy Loss:\", loss.numpy())\n"
      ]
    }
  ]
}