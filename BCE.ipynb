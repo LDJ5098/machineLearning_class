{
  "nbformat": 4,
  "nbformat_minor": 0,
  "metadata": {
    "colab": {
      "provenance": [],
      "mount_file_id": "1hsdGC7aGnQit3Lqn6-Z7eVgKsbriXCfz",
      "authorship_tag": "ABX9TyPGn5QRZCz7GIcHDyZF8dop",
      "include_colab_link": true
    },
    "kernelspec": {
      "name": "python3",
      "display_name": "Python 3"
    },
    "language_info": {
      "name": "python"
    }
  },
  "cells": [
    {
      "cell_type": "markdown",
      "metadata": {
        "id": "view-in-github",
        "colab_type": "text"
      },
      "source": [
        "<a href=\"https://colab.research.google.com/github/LDJ5098/machineLearning_class/blob/main/BCE.ipynb\" target=\"_parent\"><img src=\"https://colab.research.google.com/assets/colab-badge.svg\" alt=\"Open In Colab\"/></a>"
      ]
    },
    {
      "cell_type": "code",
      "source": [
        "!wget https://bit.ly/fruits_300_data -O fruits_300_data.npy"
      ],
      "metadata": {
        "id": "EwN9C86XlphH",
        "colab": {
          "base_uri": "https://localhost:8080/"
        },
        "outputId": "c1deb338-5231-4815-99c3-6ebdae446d5b"
      },
      "execution_count": 19,
      "outputs": [
        {
          "output_type": "stream",
          "name": "stdout",
          "text": [
            "--2024-12-02 13:46:27--  https://bit.ly/fruits_300_data\n",
            "Resolving bit.ly (bit.ly)... 67.199.248.11, 67.199.248.10\n",
            "Connecting to bit.ly (bit.ly)|67.199.248.11|:443... connected.\n",
            "HTTP request sent, awaiting response... 301 Moved Permanently\n",
            "Location: https://github.com/rickiepark/hg-mldl/raw/master/fruits_300.npy [following]\n",
            "--2024-12-02 13:46:27--  https://github.com/rickiepark/hg-mldl/raw/master/fruits_300.npy\n",
            "Resolving github.com (github.com)... 140.82.116.3\n",
            "Connecting to github.com (github.com)|140.82.116.3|:443... connected.\n",
            "HTTP request sent, awaiting response... 302 Found\n",
            "Location: https://raw.githubusercontent.com/rickiepark/hg-mldl/master/fruits_300.npy [following]\n",
            "--2024-12-02 13:46:27--  https://raw.githubusercontent.com/rickiepark/hg-mldl/master/fruits_300.npy\n",
            "Resolving raw.githubusercontent.com (raw.githubusercontent.com)... 185.199.110.133, 185.199.109.133, 185.199.108.133, ...\n",
            "Connecting to raw.githubusercontent.com (raw.githubusercontent.com)|185.199.110.133|:443... connected.\n",
            "HTTP request sent, awaiting response... 200 OK\n",
            "Length: 3000128 (2.9M) [application/octet-stream]\n",
            "Saving to: ‘fruits_300_data.npy’\n",
            "\n",
            "fruits_300_data.npy 100%[===================>]   2.86M  --.-KB/s    in 0.06s   \n",
            "\n",
            "2024-12-02 13:46:27 (49.1 MB/s) - ‘fruits_300_data.npy’ saved [3000128/3000128]\n",
            "\n"
          ]
        }
      ]
    },
    {
      "cell_type": "code",
      "execution_count": 21,
      "metadata": {
        "colab": {
          "base_uri": "https://localhost:8080/"
        },
        "id": "oCCdsXWLYoQK",
        "outputId": "5a04ff34-5902-40a1-9ac3-a040dc1c32e8"
      },
      "outputs": [
        {
          "output_type": "stream",
          "name": "stdout",
          "text": [
            "Binary Cross-Entropy Loss: 1.192093e-07\n"
          ]
        }
      ],
      "source": [
        "import numpy as np\n",
        "from sklearn.cluster import KMeans\n",
        "from sklearn.model_selection import train_test_split\n",
        "from sklearn.preprocessing import LabelBinarizer\n",
        "from tensorflow.keras import backend as K\n",
        "from tensorflow.keras.losses import BinaryCrossentropy\n",
        "\n",
        "# 데이터 로딩 및 전처리\n",
        "fruits = np.load('fruits_300_data.npy')\n",
        "fruits_2d = fruits.reshape(-1, 100*100)\n",
        "\n",
        "# KMeans 모델을 사용하여 클러스터링 (2개로 설정)\n",
        "km = KMeans(n_clusters=2, random_state=42)\n",
        "km.fit(fruits_2d)\n",
        "labels = km.labels_\n",
        "\n",
        "# 원핫 인코딩 적용 (레이블이 0 또는 1)\n",
        "lb = LabelBinarizer()\n",
        "y_true = lb.fit_transform(labels)\n",
        "\n",
        "# 예측값은 KMeans 모델의 클러스터 예측 결과로 설정\n",
        "y_pred = km.predict(fruits_2d)\n",
        "y_pred = lb.transform(y_pred)  # 예측값을 원핫 인코딩 형태로 변환\n",
        "\n",
        "# Binary Cross-Entropy 손실 계산\n",
        "bce = BinaryCrossentropy(from_logits=False)\n",
        "loss = bce(y_true, y_pred)\n",
        "print(\"Binary Cross-Entropy Loss:\", loss.numpy())\n"
      ]
    }
  ]
}