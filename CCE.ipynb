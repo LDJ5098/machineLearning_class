{
  "nbformat": 4,
  "nbformat_minor": 0,
  "metadata": {
    "colab": {
      "provenance": [],
      "mount_file_id": "1kkA3QF9dkfItI8wLKK1oMXG7NFVv2kbt",
      "authorship_tag": "ABX9TyP2WluD2kr3tNy4YablW3kT",
      "include_colab_link": true
    },
    "kernelspec": {
      "name": "python3",
      "display_name": "Python 3"
    },
    "language_info": {
      "name": "python"
    }
  },
  "cells": [
    {
      "cell_type": "markdown",
      "metadata": {
        "id": "view-in-github",
        "colab_type": "text"
      },
      "source": [
        "<a href=\"https://colab.research.google.com/github/LDJ5098/machineLearning_class/blob/main/CCE.ipynb\" target=\"_parent\"><img src=\"https://colab.research.google.com/assets/colab-badge.svg\" alt=\"Open In Colab\"/></a>"
      ]
    },
    {
      "cell_type": "code",
      "execution_count": 16,
      "metadata": {
        "colab": {
          "base_uri": "https://localhost:8080/"
        },
        "id": "QKqbYHwYiwl5",
        "outputId": "ea9ecdca-1b79-429d-9fd9-9205d98e2f9c"
      },
      "outputs": [
        {
          "output_type": "stream",
          "name": "stdout",
          "text": [
            "Categorical Cross-Entropy Loss: 1.192093e-07\n"
          ]
        }
      ],
      "source": [
        "import numpy as np\n",
        "from sklearn.cluster import KMeans\n",
        "from sklearn.preprocessing import OneHotEncoder\n",
        "from tensorflow.keras.losses import CategoricalCrossentropy\n",
        "\n",
        "# 데이터 로딩\n",
        "fruits = np.load('fruits_300_data.npy')\n",
        "fruits_2d = fruits.reshape(-1, 100*100)\n",
        "\n",
        "# KMeans 모델을 사용하여 클러스터링 (3개의 클러스터로 설정)\n",
        "km = KMeans(n_clusters=3, random_state=42)\n",
        "km.fit(fruits_2d)\n",
        "labels = km.labels_  # KMeans가 생성한 클러스터 레이블\n",
        "\n",
        "# One-hot 인코딩 적용 (클러스터 레이블을 one-hot 형식으로 변환)\n",
        "encoder = OneHotEncoder(sparse_output=False)\n",
        "y_true = encoder.fit_transform(labels.reshape(-1, 1))\n",
        "\n",
        "# 예측값은 KMeans 모델의 클러스터 예측 결과로 설정\n",
        "y_pred = km.predict(fruits_2d)  # KMeans 모델을 사용해 예측값 얻기\n",
        "y_pred = encoder.transform(y_pred.reshape(-1, 1))  # 예측값을 원핫 인코딩 형식으로 변환\n",
        "\n",
        "# Categorical Cross-Entropy 손실 계산\n",
        "cce = CategoricalCrossentropy(from_logits=False)\n",
        "loss = cce(y_true, y_pred)\n",
        "\n",
        "print(\"Categorical Cross-Entropy Loss:\", loss.numpy())\n"
      ]
    },
    {
      "cell_type": "code",
      "source": [
        "!wget https://bit.ly/fruits_300_data -O fruits_300_data.npy"
      ],
      "metadata": {
        "colab": {
          "base_uri": "https://localhost:8080/"
        },
        "id": "zYSq6ILCnHyW",
        "outputId": "ceef1ff1-9771-4111-a08e-f2e20fab93c7"
      },
      "execution_count": 15,
      "outputs": [
        {
          "output_type": "stream",
          "name": "stdout",
          "text": [
            "--2024-12-02 13:43:22--  https://bit.ly/fruits_300_data\n",
            "Resolving bit.ly (bit.ly)... 67.199.248.11, 67.199.248.10\n",
            "Connecting to bit.ly (bit.ly)|67.199.248.11|:443... connected.\n",
            "HTTP request sent, awaiting response... 301 Moved Permanently\n",
            "Location: https://github.com/rickiepark/hg-mldl/raw/master/fruits_300.npy [following]\n",
            "--2024-12-02 13:43:22--  https://github.com/rickiepark/hg-mldl/raw/master/fruits_300.npy\n",
            "Resolving github.com (github.com)... 140.82.112.4\n",
            "Connecting to github.com (github.com)|140.82.112.4|:443... connected.\n",
            "HTTP request sent, awaiting response... 302 Found\n",
            "Location: https://raw.githubusercontent.com/rickiepark/hg-mldl/master/fruits_300.npy [following]\n",
            "--2024-12-02 13:43:23--  https://raw.githubusercontent.com/rickiepark/hg-mldl/master/fruits_300.npy\n",
            "Resolving raw.githubusercontent.com (raw.githubusercontent.com)... 185.199.109.133, 185.199.108.133, 185.199.110.133, ...\n",
            "Connecting to raw.githubusercontent.com (raw.githubusercontent.com)|185.199.109.133|:443... connected.\n",
            "HTTP request sent, awaiting response... 200 OK\n",
            "Length: 3000128 (2.9M) [application/octet-stream]\n",
            "Saving to: ‘fruits_300_data.npy’\n",
            "\n",
            "fruits_300_data.npy 100%[===================>]   2.86M  --.-KB/s    in 0.07s   \n",
            "\n",
            "2024-12-02 13:43:23 (42.9 MB/s) - ‘fruits_300_data.npy’ saved [3000128/3000128]\n",
            "\n"
          ]
        }
      ]
    }
  ]
}